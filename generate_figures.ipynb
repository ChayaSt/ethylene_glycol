{
 "cells": [
  {
   "cell_type": "code",
   "execution_count": 1,
   "metadata": {},
   "outputs": [],
   "source": [
    "%matplotlib inline\n",
    "import qcfractal.interface as ptl\n",
    "import matplotlib.pyplot as plt\n",
    "import seaborn as sbn\n",
    "from openeye import oechem\n",
    "import json\n",
    "import oenotebook as oenb\n",
    "import numpy as np\n",
    "from fragmenter.utils import HARTREE_2_KJMOL\n",
    "import cmiles\n",
    "import fragmenter\n",
    "#import seaborn as sbn"
   ]
  },
  {
   "cell_type": "code",
   "execution_count": 2,
   "metadata": {},
   "outputs": [],
   "source": [
    "def get_energies_1d(dataset, index):\n",
    "    \"\"\"\n",
    "    Collect energies and Lowdin-Wiberg bond orders from torsiondrive dataset\n",
    "\n",
    "    Parameters\n",
    "    ----------\n",
    "    dataset: QCArchive TorsionDrive dataset\n",
    "    index: str\n",
    "        Job index\n",
    "\n",
    "    Returns\n",
    "    -------\n",
    "    final_energies: list of final energy\n",
    "    wbos: list of WBOs\n",
    "    \"\"\"\n",
    "    angles = np.arange(-165, 195, 15)\n",
    "    td = dataset.get_record(index, specification='default')\n",
    "    final_energies =[td.get_final_energies(int(i))*HARTREE_2_KJMOL for i in angles]\n",
    "    final_energies.insert(0, final_energies[-1])\n",
    "    final_energies = list(np.asarray(final_energies) - min(final_energies))\n",
    "\n",
    "    wbos = []\n",
    "    n_atoms = len(td.get_final_molecules(-30).symbols)\n",
    "    dih = td.keywords.dihedrals[0]\n",
    "    for a in angles:\n",
    "        opt = td.get_history(int(a), minimum=True)\n",
    "        result = opt.get_trajectory()[-1]\n",
    "        wiberg = np.array(result.extras['qcvars']['WIBERG_LOWDIN_INDICES']).reshape(-1, n_atoms)\n",
    "        wbos.append(wiberg[dih[1], dih[2]])\n",
    "    return final_energies, wbos\n",
    "\n",
    "def get_conformers(dataset, index):\n",
    "    \"\"\"\n",
    "    Download qcschema mols of optimized geometry\n",
    "    \"\"\"\n",
    "    angles = np.arange(-165, 195, 15)\n",
    "    td = dataset.get_record(index, specification='default')\n",
    "    final_molecules =[td.get_final_molecules(int(i)).dict(encoding='json') for i in angles]\n",
    "    return final_molecules\n",
    "\n"
   ]
  },
  {
   "cell_type": "code",
   "execution_count": 3,
   "metadata": {},
   "outputs": [],
   "source": [
    "client = ptl.FractalClient()\n",
    "ds = client.get_collection('TorsionDriveDataset', 'TorsionDrive Paper')"
   ]
  },
  {
   "cell_type": "code",
   "execution_count": 4,
   "metadata": {},
   "outputs": [],
   "source": [
    "# Analyze scans\n",
    "record_1d_1 = ds.get_record('[CH2:3]([CH2:2][OH:4])[OH:1]_1', specification='default')\n",
    "record_1d_12 = ds.get_record('[CH2:3]([CH2:2][OH:4])[OH:1]_12', specification='default')\n",
    "record_2d_1 = ds.get_record('[CH2:3]([CH2:2][OH:4])[OH:1],[H:4][O:3][CH2:2][CH2:1]O_1', specification='default')\n",
    "record_2d_12 = ds.get_record('[CH2:3]([CH2:2][OH:4])[OH:1],[H:4][O:3][CH2:2][CH2:1]O_12', specification='default')"
   ]
  },
  {
   "cell_type": "code",
   "execution_count": 5,
   "metadata": {},
   "outputs": [],
   "source": [
    "# Shift angle so that the y-axis on plot goes from -120 to 240 for better visualization. \n",
    "angles_x = [180, -165, -150, -135, -120, -105,  -90,  -75,  -60,  -45,  -30,  -15,\n",
    "          0,   15,   30,   45,   60,   75,   90,  105,  120,  135,  150,\n",
    "        165, 180]\n",
    "angles_y = [ -120, -105,  -90,  -75,  -60,  -45,  -30,  -15,\n",
    "          0,   15,   30,   45,   60,   75,   90,  105,  120,  135,  150,\n",
    "        165, 180, -165, -150, -135, -120]\n",
    "\n",
    "#x=np.unique(angles)\n",
    "final_energies_1 =[record_1d_1.get_final_energies(int(i))*HARTREE_2_KJMOL for i in angles_x]\n",
    "final_energies_12 = [record_1d_12.get_final_energies(int(i))*HARTREE_2_KJMOL for i in angles_x]"
   ]
  },
  {
   "cell_type": "code",
   "execution_count": 6,
   "metadata": {},
   "outputs": [],
   "source": [
    "final_energies_all = final_energies_1 + final_energies_12\n",
    "final_energies_all = list(np.asarray(final_energies_all) - min(final_energies_all))\n",
    "\n",
    "rel_final_energies_1 = list(np.asarray(final_energies_1) - min(final_energies_1))\n",
    "rel_final_energies_12 = list(np.asarray(final_energies_12) - min(final_energies_12))"
   ]
  },
  {
   "cell_type": "code",
   "execution_count": 7,
   "metadata": {},
   "outputs": [],
   "source": [
    "conformers_1d_1 = [record_1d_1.get_final_molecules(int(i)).dict(encoding='json') for i in angles_x]\n",
    "conformers_1d_12 = [record_1d_12.get_final_molecules(int(i)).dict(encoding='json') for i in angles_x]"
   ]
  },
  {
   "cell_type": "code",
   "execution_count": 8,
   "metadata": {},
   "outputs": [],
   "source": [
    "angles_1d_1 = []\n",
    "angles_1d_12 = []\n",
    "dih = record_2d_1.keywords.dihedrals\n",
    "dih.append((1, 0, 2, 8))\n",
    "for conf in conformers_1d_1:\n",
    "    angles_1d_1.append(tuple(fragmenter.torsions.measure_dihedral_angle(d, conf['geometry']) for d in dih))\n",
    "    \n",
    "for conf in conformers_1d_12:\n",
    "    angles_1d_12.append(tuple(fragmenter.torsions.measure_dihedral_angle(d, conf['geometry']) for d in dih))"
   ]
  },
  {
   "cell_type": "code",
   "execution_count": 9,
   "metadata": {},
   "outputs": [
    {
     "data": {
      "text/plain": [
       "[(2, 0, 1, 3), (0, 1, 3, 9), (1, 0, 2, 8)]"
      ]
     },
     "execution_count": 9,
     "metadata": {},
     "output_type": "execute_result"
    }
   ],
   "source": [
    "dih"
   ]
  },
  {
   "cell_type": "code",
   "execution_count": 10,
   "metadata": {},
   "outputs": [],
   "source": [
    "# After looking at the conformers, I found that when the o-c-c-o torsion was at 45 degrees, the dihedral angles of\n",
    "# the 2 h-o-c-c-c dihedrals flipped. To make sure I was plotting the h-o-c-c torsion where the H faces the O, I\n",
    "# take the min of the absolute value of both h-o-c-c dihedrals. \n",
    "angles_1d_12_lower = []\n",
    "for angle in angles_1d_12:\n",
    "    a = angle[1]\n",
    "    b = angle[2]\n",
    "    if abs(a) < abs(b):        \n",
    "        angles_1d_12_lower.append((angle[0], a))\n",
    "    else:\n",
    "        angles_1d_12_lower.append((angle[0], b))"
   ]
  },
  {
   "cell_type": "code",
   "execution_count": 11,
   "metadata": {},
   "outputs": [
    {
     "ename": "KeyError",
     "evalue": "'[120, 0]'",
     "output_type": "error",
     "traceback": [
      "\u001b[0;31m---------------------------------------------------------------------------\u001b[0m",
      "\u001b[0;31mKeyError\u001b[0m                                  Traceback (most recent call last)",
      "\u001b[0;32m<ipython-input-11-0fe0187ebbca>\u001b[0m in \u001b[0;36m<module>\u001b[0;34m\u001b[0m\n\u001b[1;32m     11\u001b[0m \u001b[0;32mfor\u001b[0m \u001b[0mi\u001b[0m\u001b[0;34m,\u001b[0m \u001b[0ma\u001b[0m \u001b[0;32min\u001b[0m \u001b[0menumerate\u001b[0m\u001b[0;34m(\u001b[0m\u001b[0mangles_x\u001b[0m\u001b[0;34m)\u001b[0m\u001b[0;34m:\u001b[0m\u001b[0;34m\u001b[0m\u001b[0;34m\u001b[0m\u001b[0m\n\u001b[1;32m     12\u001b[0m     \u001b[0;32mfor\u001b[0m \u001b[0mj\u001b[0m\u001b[0;34m,\u001b[0m \u001b[0mb\u001b[0m \u001b[0;32min\u001b[0m \u001b[0menumerate\u001b[0m\u001b[0;34m(\u001b[0m\u001b[0mangles_y\u001b[0m\u001b[0;34m)\u001b[0m\u001b[0;34m:\u001b[0m\u001b[0;34m\u001b[0m\u001b[0;34m\u001b[0m\u001b[0m\n\u001b[0;32m---> 13\u001b[0;31m         \u001b[0menergy\u001b[0m \u001b[0;34m=\u001b[0m \u001b[0mrecord_2d_1\u001b[0m\u001b[0;34m.\u001b[0m\u001b[0mget_final_energies\u001b[0m\u001b[0;34m(\u001b[0m\u001b[0;34m(\u001b[0m\u001b[0mint\u001b[0m\u001b[0;34m(\u001b[0m\u001b[0ma\u001b[0m\u001b[0;34m)\u001b[0m\u001b[0;34m,\u001b[0m \u001b[0mint\u001b[0m\u001b[0;34m(\u001b[0m\u001b[0mb\u001b[0m\u001b[0;34m)\u001b[0m\u001b[0;34m)\u001b[0m\u001b[0;34m)\u001b[0m\u001b[0;34m*\u001b[0m\u001b[0mHARTREE_2_KJMOL\u001b[0m\u001b[0;34m\u001b[0m\u001b[0;34m\u001b[0m\u001b[0m\n\u001b[0m\u001b[1;32m     14\u001b[0m         \u001b[0menergy_matrix_1\u001b[0m\u001b[0;34m[\u001b[0m\u001b[0mi\u001b[0m\u001b[0;34m,\u001b[0m \u001b[0mj\u001b[0m\u001b[0;34m]\u001b[0m \u001b[0;34m=\u001b[0m \u001b[0menergy\u001b[0m\u001b[0;34m\u001b[0m\u001b[0;34m\u001b[0m\u001b[0m\n\u001b[1;32m     15\u001b[0m \u001b[0menergy_matrix_1\u001b[0m \u001b[0;34m=\u001b[0m \u001b[0menergy_matrix_1\u001b[0m \u001b[0;34m-\u001b[0m \u001b[0menergy_matrix_1\u001b[0m\u001b[0;34m.\u001b[0m\u001b[0mmin\u001b[0m\u001b[0;34m(\u001b[0m\u001b[0;34m)\u001b[0m\u001b[0;34m\u001b[0m\u001b[0;34m\u001b[0m\u001b[0m\n",
      "\u001b[0;32m~/src/molssi/QCFractal/qcfractal/interface/models/torsiondrive.py\u001b[0m in \u001b[0;36mget_final_energies\u001b[0;34m(self, key)\u001b[0m\n\u001b[1;32m    270\u001b[0m         \"\"\"\n\u001b[1;32m    271\u001b[0m \u001b[0;34m\u001b[0m\u001b[0m\n\u001b[0;32m--> 272\u001b[0;31m         \u001b[0;32mreturn\u001b[0m \u001b[0mself\u001b[0m\u001b[0;34m.\u001b[0m\u001b[0m_organize_return\u001b[0m\u001b[0;34m(\u001b[0m\u001b[0mself\u001b[0m\u001b[0;34m.\u001b[0m\u001b[0mfinal_energy_dict\u001b[0m\u001b[0;34m,\u001b[0m \u001b[0mkey\u001b[0m\u001b[0;34m)\u001b[0m\u001b[0;34m\u001b[0m\u001b[0;34m\u001b[0m\u001b[0m\n\u001b[0m\u001b[1;32m    273\u001b[0m \u001b[0;34m\u001b[0m\u001b[0m\n\u001b[1;32m    274\u001b[0m     \u001b[0;32mdef\u001b[0m \u001b[0mget_final_molecules\u001b[0m\u001b[0;34m(\u001b[0m\u001b[0mself\u001b[0m\u001b[0;34m,\u001b[0m \u001b[0mkey\u001b[0m\u001b[0;34m:\u001b[0m \u001b[0mUnion\u001b[0m\u001b[0;34m[\u001b[0m\u001b[0mint\u001b[0m\u001b[0;34m,\u001b[0m \u001b[0mTuple\u001b[0m\u001b[0;34m[\u001b[0m\u001b[0mint\u001b[0m\u001b[0;34m,\u001b[0m \u001b[0;34m...\u001b[0m\u001b[0;34m]\u001b[0m\u001b[0;34m,\u001b[0m \u001b[0mstr\u001b[0m\u001b[0;34m]\u001b[0m \u001b[0;34m=\u001b[0m \u001b[0;32mNone\u001b[0m\u001b[0;34m)\u001b[0m \u001b[0;34m->\u001b[0m \u001b[0mDict\u001b[0m\u001b[0;34m[\u001b[0m\u001b[0mstr\u001b[0m\u001b[0;34m,\u001b[0m \u001b[0;34m\"Molecule\"\u001b[0m\u001b[0;34m]\u001b[0m\u001b[0;34m:\u001b[0m\u001b[0;34m\u001b[0m\u001b[0;34m\u001b[0m\u001b[0m\n",
      "\u001b[0;32m~/src/molssi/QCFractal/qcfractal/interface/models/torsiondrive.py\u001b[0m in \u001b[0;36m_organize_return\u001b[0;34m(self, data, key, minimum)\u001b[0m\n\u001b[1;32m    179\u001b[0m             \u001b[0;32mreturn\u001b[0m \u001b[0mcopy\u001b[0m\u001b[0;34m.\u001b[0m\u001b[0mdeepcopy\u001b[0m\u001b[0;34m(\u001b[0m\u001b[0mdata\u001b[0m\u001b[0;34m[\u001b[0m\u001b[0mkey\u001b[0m\u001b[0;34m]\u001b[0m\u001b[0;34m[\u001b[0m\u001b[0mminpos\u001b[0m\u001b[0;34m]\u001b[0m\u001b[0;34m)\u001b[0m\u001b[0;34m\u001b[0m\u001b[0;34m\u001b[0m\u001b[0m\n\u001b[1;32m    180\u001b[0m         \u001b[0;32melse\u001b[0m\u001b[0;34m:\u001b[0m\u001b[0;34m\u001b[0m\u001b[0;34m\u001b[0m\u001b[0m\n\u001b[0;32m--> 181\u001b[0;31m             \u001b[0;32mreturn\u001b[0m \u001b[0mcopy\u001b[0m\u001b[0;34m.\u001b[0m\u001b[0mdeepcopy\u001b[0m\u001b[0;34m(\u001b[0m\u001b[0mdata\u001b[0m\u001b[0;34m[\u001b[0m\u001b[0mkey\u001b[0m\u001b[0;34m]\u001b[0m\u001b[0;34m)\u001b[0m\u001b[0;34m\u001b[0m\u001b[0;34m\u001b[0m\u001b[0m\n\u001b[0m\u001b[1;32m    182\u001b[0m \u001b[0;34m\u001b[0m\u001b[0m\n\u001b[1;32m    183\u001b[0m     \u001b[0;32mdef\u001b[0m \u001b[0mdetailed_status\u001b[0m\u001b[0;34m(\u001b[0m\u001b[0mself\u001b[0m\u001b[0;34m)\u001b[0m \u001b[0;34m->\u001b[0m \u001b[0mDict\u001b[0m\u001b[0;34m[\u001b[0m\u001b[0mstr\u001b[0m\u001b[0;34m,\u001b[0m \u001b[0mAny\u001b[0m\u001b[0;34m]\u001b[0m\u001b[0;34m:\u001b[0m\u001b[0;34m\u001b[0m\u001b[0;34m\u001b[0m\u001b[0m\n",
      "\u001b[0;31mKeyError\u001b[0m: '[120, 0]'"
     ]
    }
   ],
   "source": [
    "record_2d_1 = ds.get_record('[CH2:3]([CH2:2][OH:4])[OH:1],[H:4][O:3][CH2:2][CH2:1]O_1', specification='default')\n",
    "record_2d_12 = ds.get_record('[CH2:3]([CH2:2][OH:4])[OH:1],[H:4][O:3][CH2:2][CH2:1]O_12', specification='default')\n",
    "energy_matrix_12 = np.zeros((25, 25))\n",
    "for i, a in enumerate(angles_x):\n",
    "    for j, b in enumerate(angles_y):\n",
    "        energy = record_2d_12.get_final_energies((int(a), int(b)))*HARTREE_2_KJMOL\n",
    "        energy_matrix_12[i, j] = energy\n",
    "energy_matrix_12 = energy_matrix_12 - energy_matrix_12.min()        \n",
    "\n",
    "energy_matrix_1 = np.zeros((25, 25))\n",
    "for i, a in enumerate(angles_x):\n",
    "    for j, b in enumerate(angles_y):\n",
    "        energy = record_2d_1.get_final_energies((int(a), int(b)))*HARTREE_2_KJMOL\n",
    "        energy_matrix_1[i, j] = energy\n",
    "energy_matrix_1 = energy_matrix_1 - energy_matrix_1.min()        "
   ]
  },
  {
   "cell_type": "code",
   "execution_count": 12,
   "metadata": {},
   "outputs": [],
   "source": [
    "shifted_angeles_1d_1 = []\n",
    "for a in angles_1d_1:\n",
    "    if a[1] < 0:\n",
    "        shifted_angeles_1d_1.append((a[0], a[1] + 360))\n",
    "    else:\n",
    "        shifted_angeles_1d_1.append((a[0], a[1]))\n",
    "        "
   ]
  },
  {
   "cell_type": "code",
   "execution_count": 13,
   "metadata": {},
   "outputs": [
    {
     "data": {
      "image/png": "[encoded data removed]",
      "text/plain": [
       "<Figure size 432x288 with 2 Axes>"
      ]
     },
     "metadata": {
      "needs_background": "light"
     },
     "output_type": "display_data"
    }
   ],
   "source": [
    "angles_x = [-180, -165, -150, -135, -120, -105,  -90,  -75,  -60,  -45,  -30,  -15,\n",
    "          0,   15,   30,   45,   60,   75,   90,  105,  120,  135,  150,\n",
    "        165, 180]\n",
    "angles_y = [ -120, -105,  -90,  -75,  -60,  -45,  -30,  -15,\n",
    "          0,   15,   30,   45,   60,   75,   90,  105,  120,  135,  150,\n",
    "        165, 180, 195, 210, 225, 240]\n",
    "\n",
    "x=np.unique(angles_x)\n",
    "y=np.unique(angles_y)\n",
    "Y,X = np.meshgrid(y,x)\n",
    "\n",
    "color_map = plt.pcolormesh(X, Y, energy_matrix_12, cmap='Blues_r', label='Energy (kJ/mol)')\n",
    "\n",
    "plt.scatter(np.asanyarray(angles_1d_12_lower)[:, 0][1:-1], np.asanyarray(angles_1d_12_lower)[:, 1][1:-1], color='black', \n",
    "            label='multiple starting conformations', marker='.')\n",
    "plt.scatter(np.asanyarray(angles_1d_1)[:, 0][1:-1], np.asanyarray(shifted_angeles_1d_1)[:, 1][1:-1], color='black', \n",
    "            label='single starting conformations', marker='+')\n",
    "#plt.scatter(np.asanyarray(angles_1d_1)[:, 0], np.asanyarray(angles_1d_1)[:, 1], color='black', \n",
    "#            label='single starting conformations')\n",
    "\n",
    "\n",
    "cbr = plt.colorbar(color_map)\n",
    "cbr.set_label('Relative Energy (kJ/mol)')\n",
    "plt.xlabel('O-C-C-O dihedral angle (degrees)')\n",
    "plt.ylabel('H-O-C-C dihedral angle (degrees)')\n",
    "#plt.legend()\n",
    "#plt.legend(bbox_to_anchor=[1.6,1])\n",
    "plt.tight_layout()\n",
    "plt.savefig('eg_heatmap_1d_mapped.pdf');\n",
    "#plt.ylim(-80, 80)\n",
    "#plt.xlim(-180, -50)"
   ]
  },
  {
   "cell_type": "code",
   "execution_count": 14,
   "metadata": {},
   "outputs": [],
   "source": [
    "# Save conformers of 1D 12 scan for rendering in pymol\n",
    "oemols = [cmiles.utils.mol_from_json(i) for i in conformers_1d_12]\n",
    "ofs = oechem.oemolostream()\n",
    "ofs.open('td_1d_12.xyz')\n",
    "for mol in oemols:\n",
    "    oechem.OEWriteXYZFile(ofs, mol)\n",
    "    \n",
    "oemols = [cmiles.utils.mol_from_json(i) for i in conformers_1d_1]\n",
    "ofs = oechem.oemolostream()\n",
    "ofs.open('td_1d_1.xyz')\n",
    "for mol in oemols:\n",
    "    oechem.OEWriteXYZFile(ofs, mol)"
   ]
  },
  {
   "cell_type": "code",
   "execution_count": 15,
   "metadata": {},
   "outputs": [
    {
     "data": {
      "image/png": "[encoded data removed]",
      "text/plain": [
       "<Figure size 432x288 with 1 Axes>"
      ]
     },
     "metadata": {
      "needs_background": "light"
     },
     "output_type": "display_data"
    }
   ],
   "source": [
    "plt.plot(angles_x, final_energies_all[:25], color='black')\n",
    "plt.plot(angles_x, final_energies_all[:25], '+', color='black', markersize=8, \n",
    "         label='single conformation')\n",
    "plt.plot(angles_x, final_energies_all[25:], color='black')\n",
    "\n",
    "plt.plot(angles_x, final_energies_all[25:], '.', color='black', markersize=8, \n",
    "         label='multiple conformation')\n",
    "\n",
    "#plt.plot(angles_x[8], final_energies_all[25+8], '.', color='yellow', markersize=11, )\n",
    "#plt.plot(angles_x[0], final_energies_all[0], '+', color='yellow', markersize=11, )\n",
    "\n",
    "plt.plot(angles_x[8], final_energies_all[25+8], '.', color='red', markersize=11, )\n",
    "plt.plot(angles_x[0], final_energies_all[0], '+', color='red', markersize=11, )\n",
    "\n",
    "#plt.legend(bbox_to_anchor=[1,1])\n",
    "plt.legend()\n",
    "plt.xlabel('Dihedral angle (degrees)')\n",
    "plt.ylabel('Relative Energy (kJ/mol)');\n",
    "#plt.tight_layout()\n",
    "plt.savefig('one_d_scans.pdf')"
   ]
  },
  {
   "cell_type": "code",
   "execution_count": null,
   "metadata": {},
   "outputs": [],
   "source": []
  }
 ],
 "metadata": {
  "kernelspec": {
   "display_name": "Python 3",
   "language": "python",
   "name": "python3"
  },
  "language_info": {
   "codemirror_mode": {
    "name": "ipython",
    "version": 3
   },
   "file_extension": ".py",
   "mimetype": "text/x-python",
   "name": "python",
   "nbconvert_exporter": "python",
   "pygments_lexer": "ipython3",
   "version": "3.7.2"
  }
 },
 "nbformat": 4,
 "nbformat_minor": 2
}
